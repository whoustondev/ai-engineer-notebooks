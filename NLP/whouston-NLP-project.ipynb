{
  "cells": [
    {
      "cell_type": "markdown",
      "id": "06e5882a-52f9-47a0-8a9c-183b3353b99e",
      "metadata": {
        "id": "06e5882a-52f9-47a0-8a9c-183b3353b99e"
      },
      "source": [
        "# Agenda\n",
        "- Installation and import of neccessary packages\n",
        "- Download neccesary corpus from NLTK\n",
        "- Data Cleaning\n",
        "  - Tokenization\n",
        "  - Changing case\n",
        "  - Spelling correction\n",
        "  - POS Tagging\n",
        "  - Named Entity Recognition\n",
        "  - Stemming and  Lemmetization\n",
        "  - Noise Entity Removal\n",
        "    - Remove stop words\n",
        "    - remove urls\n",
        "    - remove punctuation\n",
        "    - remove emoticons"
      ]
    },
    {
      "cell_type": "code",
      "execution_count": 1,
      "id": "bcfaedb9-d500-48fe-a1fc-125ccf48edda",
      "metadata": {
        "id": "bcfaedb9-d500-48fe-a1fc-125ccf48edda",
        "colab": {
          "base_uri": "https://localhost:8080/"
        },
        "outputId": "fe9fb1df-e126-44aa-b60e-8588eeae7e12"
      },
      "outputs": [
        {
          "output_type": "stream",
          "name": "stdout",
          "text": [
            "Requirement already satisfied: nltk in /usr/local/lib/python3.11/dist-packages (3.9.1)\n",
            "Requirement already satisfied: click in /usr/local/lib/python3.11/dist-packages (from nltk) (8.1.8)\n",
            "Requirement already satisfied: joblib in /usr/local/lib/python3.11/dist-packages (from nltk) (1.4.2)\n",
            "Requirement already satisfied: regex>=2021.8.3 in /usr/local/lib/python3.11/dist-packages (from nltk) (2024.11.6)\n",
            "Requirement already satisfied: tqdm in /usr/local/lib/python3.11/dist-packages (from nltk) (4.67.1)\n",
            "Requirement already satisfied: numpy==1.26.4 in /usr/local/lib/python3.11/dist-packages (1.26.4)\n",
            "Requirement already satisfied: pandas==2.2.2 in /usr/local/lib/python3.11/dist-packages (2.2.2)\n",
            "Requirement already satisfied: numpy>=1.23.2 in /usr/local/lib/python3.11/dist-packages (from pandas==2.2.2) (1.26.4)\n",
            "Requirement already satisfied: python-dateutil>=2.8.2 in /usr/local/lib/python3.11/dist-packages (from pandas==2.2.2) (2.8.2)\n",
            "Requirement already satisfied: pytz>=2020.1 in /usr/local/lib/python3.11/dist-packages (from pandas==2.2.2) (2025.1)\n",
            "Requirement already satisfied: tzdata>=2022.7 in /usr/local/lib/python3.11/dist-packages (from pandas==2.2.2) (2025.1)\n",
            "Requirement already satisfied: six>=1.5 in /usr/local/lib/python3.11/dist-packages (from python-dateutil>=2.8.2->pandas==2.2.2) (1.17.0)\n",
            "Requirement already satisfied: scipy==1.13.1 in /usr/local/lib/python3.11/dist-packages (1.13.1)\n",
            "Requirement already satisfied: numpy<2.3,>=1.22.4 in /usr/local/lib/python3.11/dist-packages (from scipy==1.13.1) (1.26.4)\n",
            "Requirement already satisfied: gensim in /usr/local/lib/python3.11/dist-packages (4.3.3)\n",
            "Requirement already satisfied: numpy<2.0,>=1.18.5 in /usr/local/lib/python3.11/dist-packages (from gensim) (1.26.4)\n",
            "Requirement already satisfied: scipy<1.14.0,>=1.7.0 in /usr/local/lib/python3.11/dist-packages (from gensim) (1.13.1)\n",
            "Requirement already satisfied: smart-open>=1.8.1 in /usr/local/lib/python3.11/dist-packages (from gensim) (7.1.0)\n",
            "Requirement already satisfied: wrapt in /usr/local/lib/python3.11/dist-packages (from smart-open>=1.8.1->gensim) (1.17.2)\n",
            "Requirement already satisfied: svgling in /usr/local/lib/python3.11/dist-packages (0.5.0)\n",
            "Requirement already satisfied: svgwrite in /usr/local/lib/python3.11/dist-packages (from svgling) (1.4.3)\n",
            "Requirement already satisfied: spacy in /usr/local/lib/python3.11/dist-packages (3.8.4)\n",
            "Requirement already satisfied: spacy-legacy<3.1.0,>=3.0.11 in /usr/local/lib/python3.11/dist-packages (from spacy) (3.0.12)\n",
            "Requirement already satisfied: spacy-loggers<2.0.0,>=1.0.0 in /usr/local/lib/python3.11/dist-packages (from spacy) (1.0.5)\n",
            "Requirement already satisfied: murmurhash<1.1.0,>=0.28.0 in /usr/local/lib/python3.11/dist-packages (from spacy) (1.0.12)\n",
            "Requirement already satisfied: cymem<2.1.0,>=2.0.2 in /usr/local/lib/python3.11/dist-packages (from spacy) (2.0.11)\n",
            "Requirement already satisfied: preshed<3.1.0,>=3.0.2 in /usr/local/lib/python3.11/dist-packages (from spacy) (3.0.9)\n",
            "Requirement already satisfied: thinc<8.4.0,>=8.3.4 in /usr/local/lib/python3.11/dist-packages (from spacy) (8.3.4)\n",
            "Requirement already satisfied: wasabi<1.2.0,>=0.9.1 in /usr/local/lib/python3.11/dist-packages (from spacy) (1.1.3)\n",
            "Requirement already satisfied: srsly<3.0.0,>=2.4.3 in /usr/local/lib/python3.11/dist-packages (from spacy) (2.5.1)\n",
            "Requirement already satisfied: catalogue<2.1.0,>=2.0.6 in /usr/local/lib/python3.11/dist-packages (from spacy) (2.0.10)\n",
            "Requirement already satisfied: weasel<0.5.0,>=0.1.0 in /usr/local/lib/python3.11/dist-packages (from spacy) (0.4.1)\n",
            "Requirement already satisfied: typer<1.0.0,>=0.3.0 in /usr/local/lib/python3.11/dist-packages (from spacy) (0.15.2)\n",
            "Requirement already satisfied: tqdm<5.0.0,>=4.38.0 in /usr/local/lib/python3.11/dist-packages (from spacy) (4.67.1)\n",
            "Requirement already satisfied: numpy>=1.19.0 in /usr/local/lib/python3.11/dist-packages (from spacy) (1.26.4)\n",
            "Requirement already satisfied: requests<3.0.0,>=2.13.0 in /usr/local/lib/python3.11/dist-packages (from spacy) (2.32.3)\n",
            "Requirement already satisfied: pydantic!=1.8,!=1.8.1,<3.0.0,>=1.7.4 in /usr/local/lib/python3.11/dist-packages (from spacy) (2.10.6)\n",
            "Requirement already satisfied: jinja2 in /usr/local/lib/python3.11/dist-packages (from spacy) (3.1.6)\n",
            "Requirement already satisfied: setuptools in /usr/local/lib/python3.11/dist-packages (from spacy) (75.1.0)\n",
            "Requirement already satisfied: packaging>=20.0 in /usr/local/lib/python3.11/dist-packages (from spacy) (24.2)\n",
            "Requirement already satisfied: langcodes<4.0.0,>=3.2.0 in /usr/local/lib/python3.11/dist-packages (from spacy) (3.5.0)\n",
            "Requirement already satisfied: language-data>=1.2 in /usr/local/lib/python3.11/dist-packages (from langcodes<4.0.0,>=3.2.0->spacy) (1.3.0)\n",
            "Requirement already satisfied: annotated-types>=0.6.0 in /usr/local/lib/python3.11/dist-packages (from pydantic!=1.8,!=1.8.1,<3.0.0,>=1.7.4->spacy) (0.7.0)\n",
            "Requirement already satisfied: pydantic-core==2.27.2 in /usr/local/lib/python3.11/dist-packages (from pydantic!=1.8,!=1.8.1,<3.0.0,>=1.7.4->spacy) (2.27.2)\n",
            "Requirement already satisfied: typing-extensions>=4.12.2 in /usr/local/lib/python3.11/dist-packages (from pydantic!=1.8,!=1.8.1,<3.0.0,>=1.7.4->spacy) (4.12.2)\n",
            "Requirement already satisfied: charset-normalizer<4,>=2 in /usr/local/lib/python3.11/dist-packages (from requests<3.0.0,>=2.13.0->spacy) (3.4.1)\n",
            "Requirement already satisfied: idna<4,>=2.5 in /usr/local/lib/python3.11/dist-packages (from requests<3.0.0,>=2.13.0->spacy) (3.10)\n",
            "Requirement already satisfied: urllib3<3,>=1.21.1 in /usr/local/lib/python3.11/dist-packages (from requests<3.0.0,>=2.13.0->spacy) (2.3.0)\n",
            "Requirement already satisfied: certifi>=2017.4.17 in /usr/local/lib/python3.11/dist-packages (from requests<3.0.0,>=2.13.0->spacy) (2025.1.31)\n",
            "Requirement already satisfied: blis<1.3.0,>=1.2.0 in /usr/local/lib/python3.11/dist-packages (from thinc<8.4.0,>=8.3.4->spacy) (1.2.0)\n",
            "Requirement already satisfied: confection<1.0.0,>=0.0.1 in /usr/local/lib/python3.11/dist-packages (from thinc<8.4.0,>=8.3.4->spacy) (0.1.5)\n",
            "Requirement already satisfied: click>=8.0.0 in /usr/local/lib/python3.11/dist-packages (from typer<1.0.0,>=0.3.0->spacy) (8.1.8)\n",
            "Requirement already satisfied: shellingham>=1.3.0 in /usr/local/lib/python3.11/dist-packages (from typer<1.0.0,>=0.3.0->spacy) (1.5.4)\n",
            "Requirement already satisfied: rich>=10.11.0 in /usr/local/lib/python3.11/dist-packages (from typer<1.0.0,>=0.3.0->spacy) (13.9.4)\n",
            "Requirement already satisfied: cloudpathlib<1.0.0,>=0.7.0 in /usr/local/lib/python3.11/dist-packages (from weasel<0.5.0,>=0.1.0->spacy) (0.21.0)\n",
            "Requirement already satisfied: smart-open<8.0.0,>=5.2.1 in /usr/local/lib/python3.11/dist-packages (from weasel<0.5.0,>=0.1.0->spacy) (7.1.0)\n",
            "Requirement already satisfied: MarkupSafe>=2.0 in /usr/local/lib/python3.11/dist-packages (from jinja2->spacy) (3.0.2)\n",
            "Requirement already satisfied: marisa-trie>=1.1.0 in /usr/local/lib/python3.11/dist-packages (from language-data>=1.2->langcodes<4.0.0,>=3.2.0->spacy) (1.2.1)\n",
            "Requirement already satisfied: markdown-it-py>=2.2.0 in /usr/local/lib/python3.11/dist-packages (from rich>=10.11.0->typer<1.0.0,>=0.3.0->spacy) (3.0.0)\n",
            "Requirement already satisfied: pygments<3.0.0,>=2.13.0 in /usr/local/lib/python3.11/dist-packages (from rich>=10.11.0->typer<1.0.0,>=0.3.0->spacy) (2.18.0)\n",
            "Requirement already satisfied: wrapt in /usr/local/lib/python3.11/dist-packages (from smart-open<8.0.0,>=5.2.1->weasel<0.5.0,>=0.1.0->spacy) (1.17.2)\n",
            "Requirement already satisfied: mdurl~=0.1 in /usr/local/lib/python3.11/dist-packages (from markdown-it-py>=2.2.0->rich>=10.11.0->typer<1.0.0,>=0.3.0->spacy) (0.1.2)\n",
            "Requirement already satisfied: pyldavis in /usr/local/lib/python3.11/dist-packages (3.4.1)\n",
            "Requirement already satisfied: numpy>=1.24.2 in /usr/local/lib/python3.11/dist-packages (from pyldavis) (1.26.4)\n",
            "Requirement already satisfied: scipy in /usr/local/lib/python3.11/dist-packages (from pyldavis) (1.13.1)\n",
            "Requirement already satisfied: pandas>=2.0.0 in /usr/local/lib/python3.11/dist-packages (from pyldavis) (2.2.2)\n",
            "Requirement already satisfied: joblib>=1.2.0 in /usr/local/lib/python3.11/dist-packages (from pyldavis) (1.4.2)\n",
            "Requirement already satisfied: jinja2 in /usr/local/lib/python3.11/dist-packages (from pyldavis) (3.1.6)\n",
            "Requirement already satisfied: numexpr in /usr/local/lib/python3.11/dist-packages (from pyldavis) (2.10.2)\n",
            "Requirement already satisfied: funcy in /usr/local/lib/python3.11/dist-packages (from pyldavis) (2.0)\n",
            "Requirement already satisfied: scikit-learn>=1.0.0 in /usr/local/lib/python3.11/dist-packages (from pyldavis) (1.6.1)\n",
            "Requirement already satisfied: gensim in /usr/local/lib/python3.11/dist-packages (from pyldavis) (4.3.3)\n",
            "Requirement already satisfied: setuptools in /usr/local/lib/python3.11/dist-packages (from pyldavis) (75.1.0)\n",
            "Requirement already satisfied: python-dateutil>=2.8.2 in /usr/local/lib/python3.11/dist-packages (from pandas>=2.0.0->pyldavis) (2.8.2)\n",
            "Requirement already satisfied: pytz>=2020.1 in /usr/local/lib/python3.11/dist-packages (from pandas>=2.0.0->pyldavis) (2025.1)\n",
            "Requirement already satisfied: tzdata>=2022.7 in /usr/local/lib/python3.11/dist-packages (from pandas>=2.0.0->pyldavis) (2025.1)\n",
            "Requirement already satisfied: threadpoolctl>=3.1.0 in /usr/local/lib/python3.11/dist-packages (from scikit-learn>=1.0.0->pyldavis) (3.6.0)\n",
            "Requirement already satisfied: smart-open>=1.8.1 in /usr/local/lib/python3.11/dist-packages (from gensim->pyldavis) (7.1.0)\n",
            "Requirement already satisfied: MarkupSafe>=2.0 in /usr/local/lib/python3.11/dist-packages (from jinja2->pyldavis) (3.0.2)\n",
            "Requirement already satisfied: six>=1.5 in /usr/local/lib/python3.11/dist-packages (from python-dateutil>=2.8.2->pandas>=2.0.0->pyldavis) (1.17.0)\n",
            "Requirement already satisfied: wrapt in /usr/local/lib/python3.11/dist-packages (from smart-open>=1.8.1->gensim->pyldavis) (1.17.2)\n"
          ]
        }
      ],
      "source": [
        "\n",
        "!pip install --upgrade nltk\n",
        "!pip install numpy==1.26.4\n",
        "!pip install pandas==2.2.2\n",
        "!pip install scipy==1.13.1\n",
        "!pip install gensim\n",
        "!pip install svgling\n",
        "!pip install spacy\n",
        "!pip install pyldavis\n"
      ]
    },
    {
      "cell_type": "code",
      "execution_count": 2,
      "id": "3cc1a2f3-a62e-4ba0-ad86-5ae9ac10e55b",
      "metadata": {
        "id": "3cc1a2f3-a62e-4ba0-ad86-5ae9ac10e55b",
        "colab": {
          "base_uri": "https://localhost:8080/"
        },
        "outputId": "ad91ba18-9f99-4bf8-e0bb-1262ccf93602"
      },
      "outputs": [
        {
          "output_type": "stream",
          "name": "stdout",
          "text": [
            "Collecting en-core-web-sm==3.8.0\n",
            "  Downloading https://github.com/explosion/spacy-models/releases/download/en_core_web_sm-3.8.0/en_core_web_sm-3.8.0-py3-none-any.whl (12.8 MB)\n",
            "\u001b[2K     \u001b[90m━━━━━━━━━━━━━━━━━━━━━━━━━━━━━━━━━━━━━━━━\u001b[0m \u001b[32m12.8/12.8 MB\u001b[0m \u001b[31m46.9 MB/s\u001b[0m eta \u001b[36m0:00:00\u001b[0m\n",
            "\u001b[?25h\u001b[38;5;2m✔ Download and installation successful\u001b[0m\n",
            "You can now load the package via spacy.load('en_core_web_sm')\n",
            "\u001b[38;5;3m⚠ Restart to reload dependencies\u001b[0m\n",
            "If you are in a Jupyter or Colab notebook, you may need to restart Python in\n",
            "order to load all the package's dependencies. You can do this by selecting the\n",
            "'Restart kernel' or 'Restart runtime' option.\n"
          ]
        }
      ],
      "source": [
        "!python -m spacy download en_core_web_sm"
      ]
    },
    {
      "cell_type": "code",
      "execution_count": 3,
      "id": "cdcdf433-be09-4e30-bb1f-1d4275337cdd",
      "metadata": {
        "id": "cdcdf433-be09-4e30-bb1f-1d4275337cdd"
      },
      "outputs": [],
      "source": [
        "\n",
        "import re\n",
        "from string import punctuation\n",
        "import nltk\n",
        "# import spacy"
      ]
    },
    {
      "cell_type": "code",
      "execution_count": 4,
      "id": "1b877aaf-cf0c-4c28-943d-07ef780e36e2",
      "metadata": {
        "colab": {
          "base_uri": "https://localhost:8080/"
        },
        "id": "1b877aaf-cf0c-4c28-943d-07ef780e36e2",
        "outputId": "1cef74bf-7b51-47dd-d919-9b6890ddab72"
      },
      "outputs": [
        {
          "output_type": "stream",
          "name": "stderr",
          "text": [
            "[nltk_data] Downloading collection 'popular'\n",
            "[nltk_data]    | \n",
            "[nltk_data]    | Downloading package cmudict to /root/nltk_data...\n",
            "[nltk_data]    |   Package cmudict is already up-to-date!\n",
            "[nltk_data]    | Downloading package gazetteers to /root/nltk_data...\n",
            "[nltk_data]    |   Package gazetteers is already up-to-date!\n",
            "[nltk_data]    | Downloading package genesis to /root/nltk_data...\n",
            "[nltk_data]    |   Package genesis is already up-to-date!\n",
            "[nltk_data]    | Downloading package gutenberg to /root/nltk_data...\n",
            "[nltk_data]    |   Package gutenberg is already up-to-date!\n",
            "[nltk_data]    | Downloading package inaugural to /root/nltk_data...\n",
            "[nltk_data]    |   Package inaugural is already up-to-date!\n",
            "[nltk_data]    | Downloading package movie_reviews to\n",
            "[nltk_data]    |     /root/nltk_data...\n",
            "[nltk_data]    |   Package movie_reviews is already up-to-date!\n",
            "[nltk_data]    | Downloading package names to /root/nltk_data...\n",
            "[nltk_data]    |   Package names is already up-to-date!\n",
            "[nltk_data]    | Downloading package shakespeare to /root/nltk_data...\n",
            "[nltk_data]    |   Package shakespeare is already up-to-date!\n",
            "[nltk_data]    | Downloading package stopwords to /root/nltk_data...\n",
            "[nltk_data]    |   Package stopwords is already up-to-date!\n",
            "[nltk_data]    | Downloading package treebank to /root/nltk_data...\n",
            "[nltk_data]    |   Package treebank is already up-to-date!\n",
            "[nltk_data]    | Downloading package twitter_samples to\n",
            "[nltk_data]    |     /root/nltk_data...\n",
            "[nltk_data]    |   Package twitter_samples is already up-to-date!\n",
            "[nltk_data]    | Downloading package omw to /root/nltk_data...\n",
            "[nltk_data]    |   Package omw is already up-to-date!\n",
            "[nltk_data]    | Downloading package omw-1.4 to /root/nltk_data...\n",
            "[nltk_data]    |   Package omw-1.4 is already up-to-date!\n",
            "[nltk_data]    | Downloading package wordnet to /root/nltk_data...\n",
            "[nltk_data]    |   Package wordnet is already up-to-date!\n",
            "[nltk_data]    | Downloading package wordnet2021 to /root/nltk_data...\n",
            "[nltk_data]    |   Package wordnet2021 is already up-to-date!\n",
            "[nltk_data]    | Downloading package wordnet31 to /root/nltk_data...\n",
            "[nltk_data]    |   Package wordnet31 is already up-to-date!\n",
            "[nltk_data]    | Downloading package wordnet_ic to /root/nltk_data...\n",
            "[nltk_data]    |   Package wordnet_ic is already up-to-date!\n",
            "[nltk_data]    | Downloading package words to /root/nltk_data...\n",
            "[nltk_data]    |   Package words is already up-to-date!\n",
            "[nltk_data]    | Downloading package maxent_ne_chunker to\n",
            "[nltk_data]    |     /root/nltk_data...\n",
            "[nltk_data]    |   Package maxent_ne_chunker is already up-to-date!\n",
            "[nltk_data]    | Downloading package punkt to /root/nltk_data...\n",
            "[nltk_data]    |   Package punkt is already up-to-date!\n",
            "[nltk_data]    | Downloading package snowball_data to\n",
            "[nltk_data]    |     /root/nltk_data...\n",
            "[nltk_data]    |   Package snowball_data is already up-to-date!\n",
            "[nltk_data]    | Downloading package averaged_perceptron_tagger to\n",
            "[nltk_data]    |     /root/nltk_data...\n",
            "[nltk_data]    |   Package averaged_perceptron_tagger is already up-\n",
            "[nltk_data]    |       to-date!\n",
            "[nltk_data]    | \n",
            "[nltk_data]  Done downloading collection popular\n"
          ]
        },
        {
          "output_type": "execute_result",
          "data": {
            "text/plain": [
              "True"
            ]
          },
          "metadata": {},
          "execution_count": 4
        }
      ],
      "source": [
        "nltk.download('popular')"
      ]
    },
    {
      "cell_type": "code",
      "execution_count": 5,
      "id": "b4bfe6fd-43ca-450f-92d2-8e1356d2cfd4",
      "metadata": {
        "colab": {
          "base_uri": "https://localhost:8080/"
        },
        "id": "b4bfe6fd-43ca-450f-92d2-8e1356d2cfd4",
        "outputId": "bfa4ed0f-4647-491a-f559-d92ca7f8df23"
      },
      "outputs": [
        {
          "output_type": "stream",
          "name": "stderr",
          "text": [
            "[nltk_data] Downloading package punkt_tab to /root/nltk_data...\n",
            "[nltk_data]   Package punkt_tab is already up-to-date!\n"
          ]
        },
        {
          "output_type": "execute_result",
          "data": {
            "text/plain": [
              "True"
            ]
          },
          "metadata": {},
          "execution_count": 5
        }
      ],
      "source": [
        "nltk.download('punkt_tab')"
      ]
    },
    {
      "cell_type": "code",
      "execution_count": 6,
      "id": "131d38f4-7eb7-440c-be43-f16eb36151df",
      "metadata": {
        "id": "131d38f4-7eb7-440c-be43-f16eb36151df"
      },
      "outputs": [],
      "source": [
        "# import necessary corpuses\n",
        "from nltk.corpus import stopwords\n",
        "from nltk.corpus import wordnet\n"
      ]
    },
    {
      "cell_type": "code",
      "execution_count": 7,
      "id": "1ec598b5-9b9f-4174-9b69-4fd0a51bcdc5",
      "metadata": {
        "id": "1ec598b5-9b9f-4174-9b69-4fd0a51bcdc5"
      },
      "outputs": [],
      "source": [
        "## Data Cleaning steps"
      ]
    },
    {
      "cell_type": "code",
      "execution_count": 23,
      "id": "71f1daf5-86db-4a0c-8033-11e14d78b203",
      "metadata": {
        "colab": {
          "base_uri": "https://localhost:8080/"
        },
        "id": "71f1daf5-86db-4a0c-8033-11e14d78b203",
        "outputId": "2efabe72-567d-4535-dfb7-f129e690bc13"
      },
      "outputs": [
        {
          "output_type": "stream",
          "name": "stdout",
          "text": [
            "Drive already mounted at /content/drive; to attempt to forcibly remount, call drive.mount(\"/content/drive\", force_remount=True).\n",
            "       sentiment                                             review\n",
            "0              1             Good but need updates and improvements\n",
            "1              0  Worst mobile i have bought ever, Battery is dr...\n",
            "2              1  when I will get my 10% cash back.... its alrea...\n",
            "3              1                                               Good\n",
            "4              0  The worst phone everThey have changed the last...\n",
            "...          ...                                                ...\n",
            "14670          1  I really like the phone, Everything is working...\n",
            "14671          1  The Lenovo K8 Note is awesome. It takes best p...\n",
            "14672          1                       Awesome Gaget.. @ this price\n",
            "14673          1  This phone is nice processing will be successf...\n",
            "14674          1      Good product but the pakeging was not enough.\n",
            "\n",
            "[14675 rows x 2 columns]\n"
          ]
        }
      ],
      "source": [
        "import pandas as pd\n",
        "import zipfile\n",
        "\n",
        "from google.colab import drive\n",
        "drive.mount('/content/drive')\n",
        "\n",
        "import pandas as pd\n",
        "import zipfile\n",
        "import os\n",
        "\n",
        "def read_csv(file_path):\n",
        "    # Check if the file is a zip file\n",
        "    if file_path.endswith('.zip'):\n",
        "        # Handle reading a CSV file inside the ZIP archive\n",
        "        with zipfile.ZipFile(file_path, 'r') as zip_ref:\n",
        "            # List the contents of the ZIP to get the CSV filename inside\n",
        "            zip_contents = zip_ref.namelist()\n",
        "            # Assuming there's only one CSV file inside the zip\n",
        "            csv_file_name = zip_contents[0]\n",
        "            with zip_ref.open(csv_file_name) as file:\n",
        "                # Read the CSV file directly into a pandas DataFrame\n",
        "                df = pd.read_csv(file)\n",
        "    else:\n",
        "        # If it's not a zip, read the CSV directly\n",
        "        df = pd.read_csv(file_path)\n",
        "\n",
        "    return df\n",
        "\n",
        "# Example usage:\n",
        "# If you are using google drive mount,  you can use the following file path\n",
        "#file_path = '/content/drive/MyDrive/AI Engineer Simplilearn Course/NLP/k8s-csv.csv.zip'  # Replace with the actual file path (zip or csv)\n",
        "\n",
        "# If not using google drive just put it in root path and use this\n",
        "file_path = 'k8s-csv.csv.zip'\n",
        "df = read_csv(file_path)\n",
        "\n",
        "# Output the dataframe\n",
        "print(df)\n"
      ]
    },
    {
      "cell_type": "code",
      "source": [
        "\n",
        "\n",
        "\n",
        "# Extract the text from the second column (assuming the second column is named 'Column2')\n",
        "# Replace 'Column2' with the actual name of the column or use index if necessary (e.g., df.iloc[:, 1])\n",
        "reviews_list = df.iloc[:, 1].str.lower().tolist()\n",
        "\n",
        "# Output the list of texts\n",
        "\n"
      ],
      "metadata": {
        "id": "O7ouFB224_5Q"
      },
      "id": "O7ouFB224_5Q",
      "execution_count": 9,
      "outputs": []
    },
    {
      "cell_type": "code",
      "execution_count": 10,
      "id": "7930e885-2875-430b-9759-f1889e8b8010",
      "metadata": {
        "id": "7930e885-2875-430b-9759-f1889e8b8010"
      },
      "outputs": [],
      "source": [
        "## Tokenization\n",
        "### Sentence Tokenization\n",
        "from nltk.tokenize import word_tokenize\n",
        "from nltk import pos_tag\n",
        "\n",
        "tokenized_reviews = [word_tokenize(review) for review in reviews_list]\n"
      ]
    },
    {
      "cell_type": "code",
      "execution_count": 11,
      "id": "4959c8f8-a2a7-4278-80b2-781170e1aca4",
      "metadata": {
        "colab": {
          "base_uri": "https://localhost:8080/"
        },
        "id": "4959c8f8-a2a7-4278-80b2-781170e1aca4",
        "outputId": "f92b6609-2413-488e-b926-34dcc773cc7d"
      },
      "outputs": [
        {
          "output_type": "stream",
          "name": "stdout",
          "text": [
            "['good', 'but', 'need', 'updates', 'and', 'improvements']\n"
          ]
        }
      ],
      "source": [
        "print(tokenized_reviews[0])"
      ]
    },
    {
      "cell_type": "code",
      "execution_count": 12,
      "id": "8f6cfb69-761e-4d99-a166-784ef1e9001f",
      "metadata": {
        "colab": {
          "base_uri": "https://localhost:8080/"
        },
        "id": "8f6cfb69-761e-4d99-a166-784ef1e9001f",
        "outputId": "071eb684-aa5d-4261-f7b5-753b725e705c"
      },
      "outputs": [
        {
          "output_type": "stream",
          "name": "stderr",
          "text": [
            "[nltk_data] Downloading package punkt to /root/nltk_data...\n",
            "[nltk_data]   Package punkt is already up-to-date!\n",
            "[nltk_data] Downloading package averaged_perceptron_tagger to\n",
            "[nltk_data]     /root/nltk_data...\n",
            "[nltk_data]   Package averaged_perceptron_tagger is already up-to-\n",
            "[nltk_data]       date!\n",
            "[nltk_data] Downloading package stopwords to /root/nltk_data...\n",
            "[nltk_data]   Package stopwords is already up-to-date!\n"
          ]
        },
        {
          "output_type": "execute_result",
          "data": {
            "text/plain": [
              "True"
            ]
          },
          "metadata": {},
          "execution_count": 12
        }
      ],
      "source": [
        "nltk.download('punkt')  # For tokenization\n",
        "nltk.download('averaged_perceptron_tagger')  # For POS tagging\n",
        "nltk.download('stopwords')  # (optional) For stopwords if needed"
      ]
    },
    {
      "cell_type": "code",
      "execution_count": 12,
      "id": "6e342209-685e-4755-bad9-a54596cf70aa",
      "metadata": {
        "id": "6e342209-685e-4755-bad9-a54596cf70aa"
      },
      "outputs": [],
      "source": []
    },
    {
      "cell_type": "code",
      "execution_count": 13,
      "id": "de2c5c6f-053b-4680-b9e7-26b26243bb64",
      "metadata": {
        "id": "de2c5c6f-053b-4680-b9e7-26b26243bb64",
        "colab": {
          "base_uri": "https://localhost:8080/"
        },
        "outputId": "a7b21586-050e-4daf-c9bb-3b7be37c0d59"
      },
      "outputs": [
        {
          "output_type": "stream",
          "name": "stderr",
          "text": [
            "[nltk_data] Downloading package averaged_perceptron_tagger_eng to\n",
            "[nltk_data]     /root/nltk_data...\n",
            "[nltk_data]   Package averaged_perceptron_tagger_eng is already up-to-\n",
            "[nltk_data]       date!\n"
          ]
        }
      ],
      "source": [
        "\n",
        "## get the list ofenglish words\n",
        "\n",
        "words =  nltk.corpus.words.words()\n",
        "nltk.download('averaged_perceptron_tagger_eng')\n",
        "tagged_reviews = [pos_tag(review) for review in tokenized_reviews]"
      ]
    },
    {
      "cell_type": "code",
      "execution_count": 14,
      "id": "229fa929-efd8-4481-badd-862aee58ba63",
      "metadata": {
        "colab": {
          "base_uri": "https://localhost:8080/"
        },
        "id": "229fa929-efd8-4481-badd-862aee58ba63",
        "outputId": "55f2fafd-1fa0-4d93-c8ee-1b0e7ba629e2"
      },
      "outputs": [
        {
          "output_type": "stream",
          "name": "stdout",
          "text": [
            "Total number of words in the  vocab 236736\n"
          ]
        }
      ],
      "source": [
        "print(f'Total number of words in the  vocab {len(words)}')"
      ]
    },
    {
      "cell_type": "code",
      "execution_count": 15,
      "id": "a7446b47-5578-40f4-b5c0-97fe6571b1f9",
      "metadata": {
        "colab": {
          "base_uri": "https://localhost:8080/"
        },
        "id": "a7446b47-5578-40f4-b5c0-97fe6571b1f9",
        "outputId": "acfb29fa-ba27-44f5-f6bf-d6a07b259d49"
      },
      "outputs": [
        {
          "output_type": "stream",
          "name": "stdout",
          "text": [
            "[('good', 'JJ'), ('but', 'CC'), ('need', 'VBP'), ('updates', 'NNS'), ('and', 'CC'), ('improvements', 'NNS')]\n"
          ]
        }
      ],
      "source": [
        "print(tagged_reviews[0])\n",
        "\n",
        "# Step 5: Filter for only nouns (NN, NNS, NNP, NNPS)\n",
        "nouns_list = []\n",
        "\n",
        "for tagged_review in tagged_reviews:\n",
        "    nouns_in_review = [word for word, tag in tagged_review if tag.startswith('NN')]  # Keep only nouns\n",
        "    nouns_list.append(nouns_in_review)\n"
      ]
    },
    {
      "cell_type": "code",
      "execution_count": 16,
      "id": "6b050917-ceee-4c51-aaae-2c362093a514",
      "metadata": {
        "colab": {
          "base_uri": "https://localhost:8080/"
        },
        "id": "6b050917-ceee-4c51-aaae-2c362093a514",
        "outputId": "66245e50-f448-4209-f0c9-62a1c63ec304"
      },
      "outputs": [
        {
          "output_type": "stream",
          "name": "stdout",
          "text": [
            "['updates', 'improvements']\n"
          ]
        }
      ],
      "source": [
        "print(nouns_list[0])"
      ]
    },
    {
      "cell_type": "code",
      "source": [
        "import nltk\n",
        "from nltk.corpus import stopwords\n",
        "from gensim import corpora\n",
        "from gensim.models import LdaModel\n",
        "\n",
        "# Step 4: Define POS tags that correspond to nouns\n",
        "# Noun POS tags: 'NN' (singular), 'NNS' (plural), 'NNP' (proper singular), 'NNPS' (proper plural)\n",
        "noun_tags = ['NN', 'NNS', 'NNP', 'NNPS']\n",
        "\n",
        "# Step 5: Lemmatize and remove stopwords and punctuation\n",
        "# A lemmatizer is a tool in natural language processing (NLP) that reduces a word to its base or root form, known as the lemma. Unlike stemming, which simply chops off word endings to create a root word, lemmatization ensures that the word is reduced to a meaningful base form according to its correct part of speech (POS).\n",
        "# For example:\n",
        "# \"running\" becomes \"run\"\n",
        "# \"better\" becomes \"good\"\n",
        "# \"geese\" becomes \"goose\"\n",
        "\n",
        "# stop word = a common word (like \"the,\" \"a,\" \"is,\" \"and\") that is often filtered during text analysis/search indexing\n",
        "lemmatizer = nltk.stem.WordNetLemmatizer()\n",
        "stop_words = set(stopwords.words('english'))\n",
        "punctuation = set(['.', ',', '!', '?', ';', ':', '(', ')', '-', '_', '\"', \"'\"])\n",
        "\n",
        "\n",
        "# Step 3: Clean the reviews by lemmatizing, removing stopwords, and punctuation\n",
        "cleaned_reviews = []\n",
        "for tagged_review in tagged_reviews:\n",
        "    cleaned_review = [\n",
        "        lemmatizer.lemmatize(word.lower())  # Lemmatize and convert to lowercase\n",
        "        for word, tag in tagged_review\n",
        "        if tag in noun_tags and word.lower() not in stop_words and word not in punctuation\n",
        "    ]\n",
        "    cleaned_reviews.append(cleaned_review)\n",
        "\n",
        "# Step 4: Create a dictionary and corpus for topic modeling\n",
        "dictionary = corpora.Dictionary(cleaned_reviews)\n",
        "corpus = [dictionary.doc2bow(review) for review in cleaned_reviews]\n",
        "\n",
        "# Step 5: Build the LDA model with 12 topics\n",
        "lda_model = LdaModel(corpus, num_topics=12, id2word=dictionary, passes=15)\n",
        "\n",
        "# Step 6: Display the top terms for each topic\n",
        "for idx, topic in lda_model.print_topics(num_words=20):\n",
        "    print(f\"Topic {idx}: {topic}\")\n",
        "    print(\"\\n\")\n"
      ],
      "metadata": {
        "colab": {
          "base_uri": "https://localhost:8080/"
        },
        "id": "qQHVRSXEr40g",
        "outputId": "bf7ba2f7-2713-454e-edfd-235f343f5fcf"
      },
      "id": "qQHVRSXEr40g",
      "execution_count": 17,
      "outputs": [
        {
          "output_type": "stream",
          "name": "stdout",
          "text": [
            "Topic 0: 0.190*\"screen\" + 0.051*\"cast\" + 0.044*\"please\" + 0.042*\"option\" + 0.038*\"specification\" + 0.024*\"buy\" + 0.020*\"tv\" + 0.019*\"rate\" + 0.016*\"n\" + 0.014*\"segment\" + 0.013*\"package\" + 0.013*\"anyone\" + 0.013*\"processing\" + 0.012*\"others\" + 0.011*\"scratch\" + 0.010*\"saver\" + 0.009*\"name\" + 0.009*\"brightness\" + 0.009*\"ui\" + 0.008*\"head\"\n",
            "\n",
            "\n",
            "Topic 1: 0.212*\"battery\" + 0.066*\"camera\" + 0.053*\"performance\" + 0.040*\"backup\" + 0.032*\"hour\" + 0.032*\"day\" + 0.031*\"time\" + 0.023*\"%\" + 0.023*\"life\" + 0.022*\"issue\" + 0.020*\"use\" + 0.017*\"charge\" + 0.015*\"drain\" + 0.015*\"usage\" + 0.014*\"hr\" + 0.013*\"charging\" + 0.012*\"photo\" + 0.011*\"charger\" + 0.011*\"heat\" + 0.010*\"turbo\"\n",
            "\n",
            "\n",
            "Topic 2: 0.290*\"mobile\" + 0.020*\"company\" + 0.019*\"feature\" + 0.014*\"average\" + 0.014*\"review\" + 0.010*\"sensor\" + 0.010*\"offer\" + 0.010*\"cover\" + 0.009*\"compare\" + 0.009*\"resolution\" + 0.009*\"shot\" + 0.008*\"print\" + 0.008*\"configuration\" + 0.008*\"medium\" + 0.007*\"hope\" + 0.007*\"ringtone\" + 0.007*\"future\" + 0.007*\"system\" + 0.007*\"samsung\" + 0.007*\"sir\"\n",
            "\n",
            "\n",
            "Topic 3: 0.122*\"money\" + 0.100*\"waste\" + 0.091*\".....\" + 0.065*\"superb\" + 0.047*\"smartphone\" + 0.034*\"......\" + 0.033*\"experience\" + 0.026*\"dont\" + 0.015*\"buying\" + 0.014*\"system\" + 0.014*\"phn\" + 0.011*\"net\" + 0.010*\"working\" + 0.010*\"someone\" + 0.009*\"r\" + 0.009*\"deal\" + 0.008*\"camara\" + 0.008*\"stop\" + 0.008*\"bt\" + 0.008*\"line\"\n",
            "\n",
            "\n",
            "Topic 4: 0.181*\"note\" + 0.095*\"k8\" + 0.093*\"lenovo\" + 0.076*\"....\" + 0.050*\"device\" + 0.046*\"feature\" + 0.020*\"sound\" + 0.019*\"dolby\" + 0.017*\"model\" + 0.017*\"killer\" + 0.015*\"atmos\" + 0.013*\"power\" + 0.012*\"k4\" + 0.012*\"user\" + 0.010*\"item\" + 0.010*\"experience\" + 0.008*\"headset\" + 0.007*\"nothing\" + 0.007*\"suggestion\" + 0.007*\"way\"\n",
            "\n",
            "\n",
            "Topic 5: 0.039*\"call\" + 0.027*\"software\" + 0.026*\"money\" + 0.023*\"value\" + 0.023*\"phone\" + 0.021*\"amazon\" + 0.021*\"app\" + 0.020*\"update\" + 0.019*\"return\" + 0.018*\"lenovo\" + 0.016*\"support\" + 0.015*\"apps\" + 0.014*\"option\" + 0.014*\"problem\" + 0.013*\"time\" + 0.012*\"speaker\" + 0.011*\"gallery\" + 0.011*\"feature\" + 0.011*\"notification\" + 0.011*\"contact\"\n",
            "\n",
            "\n",
            "Topic 6: 0.061*\"processor\" + 0.041*\"ram\" + 0.037*\"glass\" + 0.033*\"android\" + 0.031*\"stock\" + 0.026*\"headphone\" + 0.023*\"display\" + 0.022*\"earphone\" + 0.022*\"core\" + 0.020*\"gb\" + 0.019*\"music\" + 0.019*\"price\" + 0.019*\"look\" + 0.019*\"gorilla\" + 0.018*\"thing\" + 0.018*\"touch\" + 0.017*\"range\" + 0.016*\"moto\" + 0.015*\"cost\" + 0.014*\"class\"\n",
            "\n",
            "\n",
            "Topic 7: 0.124*\"issue\" + 0.067*\"network\" + 0.050*\"problem\" + 0.049*\"phone\" + 0.034*\"sim\" + 0.024*\"heating\" + 0.023*\"budget\" + 0.020*\"star\" + 0.018*\"card\" + 0.018*\"jio\" + 0.016*\"volta\" + 0.013*\"lot\" + 0.013*\"data\" + 0.012*\"time\" + 0.012*\"call\" + 0.012*\"slot\" + 0.011*\"day\" + 0.011*\"option\" + 0.011*\"signal\" + 0.011*\"connectivity\"\n",
            "\n",
            "\n",
            "Topic 8: 0.323*\"product\" + 0.216*\"..\" + 0.069*\"price\" + 0.040*\"range\" + 0.036*\"delivery\" + 0.023*\"....\" + 0.019*\"performance\" + 0.016*\"thanks\" + 0.015*\"worth\" + 0.015*\"super\" + 0.014*\"amazon\" + 0.010*\"feature\" + 0.008*\"u\" + 0.008*\"till\" + 0.006*\"date\" + 0.006*\"buy\" + 0.005*\"concern\" + 0.005*\"result\" + 0.004*\"weight\" + 0.003*\"bit\"\n",
            "\n",
            "\n",
            "Topic 9: 0.643*\"phone\" + 0.035*\"price\" + 0.022*\"feature\" + 0.017*\"time\" + 0.013*\"month\" + 0.012*\"hang\" + 0.009*\"update\" + 0.009*\"condition\" + 0.007*\"heat\" + 0.006*\"mi\" + 0.006*\"lot\" + 0.005*\"oreo\" + 0.005*\"order\" + 0.005*\"everything\" + 0.004*\"nice\" + 0.004*\"one\" + 0.004*\"week\" + 0.003*\"hell\" + 0.003*\"percent\" + 0.003*\"graphic\"\n",
            "\n",
            "\n",
            "Topic 10: 0.078*\"service\" + 0.055*\"day\" + 0.045*\"charger\" + 0.045*\"month\" + 0.043*\"problem\" + 0.038*\"amazon\" + 0.033*\"handset\" + 0.027*\"customer\" + 0.024*\"replacement\" + 0.022*\"center\" + 0.018*\"heat\" + 0.018*\"purchase\" + 0.018*\"time\" + 0.018*\"piece\" + 0.016*\"box\" + 0.016*\"care\" + 0.016*\"issue\" + 0.015*\"excellent\" + 0.014*\"set\" + 0.014*\"ok\"\n",
            "\n",
            "\n",
            "Topic 11: 0.218*\"camera\" + 0.130*\"quality\" + 0.067*\"problem\" + 0.036*\"heating\" + 0.022*\"speaker\" + 0.021*\"hai\" + 0.019*\"everything\" + 0.017*\"sound\" + 0.017*\"depth\" + 0.017*\"h\" + 0.015*\"mode\" + 0.015*\"picture\" + 0.015*\"clarity\" + 0.014*\"*\" + 0.012*\"display\" + 0.012*\"image\" + 0.011*\"front\" + 0.011*\"speed\" + 0.010*\"work\" + 0.009*\"mp\"\n",
            "\n",
            "\n"
          ]
        }
      ]
    },
    {
      "cell_type": "code",
      "source": [
        "from gensim.models import CoherenceModel\n",
        "\n",
        "# Assuming you have the LDA model and corpus already created, like this:\n",
        "# lda_model = gensim.models.LdaModel(corpus, num_topics=10, id2word=dictionary)\n",
        "\n",
        "# Compute the coherence score using the 'c_v' metric\n",
        "coherence_model_lda = CoherenceModel(model=lda_model, texts=cleaned_reviews, dictionary=dictionary, coherence='c_v')\n",
        "\n",
        "# Get the coherence score\n",
        "coherence_lda = coherence_model_lda.get_coherence()\n",
        "\n",
        "print(f'Coherence Score (c_v): {coherence_lda}')"
      ],
      "metadata": {
        "colab": {
          "base_uri": "https://localhost:8080/"
        },
        "id": "R_2mbYGBoRu7",
        "outputId": "3eb8996a-ad1b-4bca-c263-6bcf363ca55e"
      },
      "id": "R_2mbYGBoRu7",
      "execution_count": 18,
      "outputs": [
        {
          "output_type": "stream",
          "name": "stdout",
          "text": [
            "Coherence Score (c_v): 0.5271926504393482\n"
          ]
        }
      ]
    },
    {
      "cell_type": "code",
      "source": [
        "\n",
        "\n",
        "# Assuming you've already processed your corpus and created a dictionary\n",
        "\n",
        "from gensim.models import LdaModel\n",
        "\n",
        "# Recreate the LDA model with the optimal number of topics (6)\n",
        "lda_model_optimal = LdaModel(corpus, num_topics=6, id2word=dictionary, passes=15)\n",
        "\n",
        "# Print out the top 10 terms for each topic\n",
        "topics = lda_model_optimal.print_topics(num_words=20)\n",
        "for topic in topics:\n",
        "    print(topic)"
      ],
      "metadata": {
        "colab": {
          "base_uri": "https://localhost:8080/"
        },
        "id": "uZaT8DeitN0J",
        "outputId": "cd0f488d-fc05-44e4-f293-803e9206fb3c"
      },
      "id": "uZaT8DeitN0J",
      "execution_count": 19,
      "outputs": [
        {
          "output_type": "stream",
          "name": "stdout",
          "text": [
            "(0, '0.132*\"camera\" + 0.077*\"quality\" + 0.046*\"note\" + 0.025*\"k8\" + 0.024*\"speaker\" + 0.024*\"sound\" + 0.017*\"..\" + 0.014*\"feature\" + 0.013*\"lenovo\" + 0.013*\"mode\" + 0.012*\"depth\" + 0.011*\"dolby\" + 0.010*\"clarity\" + 0.010*\"display\" + 0.010*\"picture\" + 0.009*\"front\" + 0.009*\"headphone\" + 0.009*\"music\" + 0.009*\"photo\" + 0.009*\"image\"')\n",
            "(1, '0.183*\"phone\" + 0.103*\"battery\" + 0.040*\"camera\" + 0.027*\"performance\" + 0.026*\"price\" + 0.023*\"....\" + 0.023*\"backup\" + 0.021*\"feature\" + 0.016*\"time\" + 0.013*\"range\" + 0.012*\"life\" + 0.012*\"hour\" + 0.012*\"day\" + 0.011*\"%\" + 0.010*\"quality\" + 0.009*\"heat\" + 0.008*\"issue\" + 0.008*\"hr\" + 0.008*\"charge\" + 0.008*\"budget\"')\n",
            "(2, '0.078*\"phone\" + 0.039*\"..\" + 0.039*\"issue\" + 0.022*\"lenovo\" + 0.020*\"problem\" + 0.020*\"day\" + 0.016*\"battery\" + 0.015*\"note\" + 0.014*\"device\" + 0.014*\"time\" + 0.013*\"service\" + 0.013*\"network\" + 0.013*\"update\" + 0.011*\"amazon\" + 0.011*\"month\" + 0.011*\"software\" + 0.010*\"camera\" + 0.008*\"call\" + 0.008*\"sim\" + 0.007*\"lot\"')\n",
            "(3, '0.159*\"mobile\" + 0.057*\"screen\" + 0.034*\"charger\" + 0.020*\"glass\" + 0.015*\"cast\" + 0.012*\"earphone\" + 0.012*\"call\" + 0.011*\"app\" + 0.010*\"feature\" + 0.010*\"voice\" + 0.010*\"box\" + 0.010*\"gorilla\" + 0.010*\"option\" + 0.010*\"hand\" + 0.009*\"video\" + 0.009*\"turbo\" + 0.009*\"set\" + 0.008*\"gallery\" + 0.008*\"star\" + 0.007*\"awesome\"')\n",
            "(4, '0.105*\"problem\" + 0.041*\"heating\" + 0.026*\"hai\" + 0.020*\"h\" + 0.016*\"network\" + 0.012*\"......\" + 0.011*\"ho\" + 0.010*\"smartphone\" + 0.009*\"item\" + 0.007*\"recorder\" + 0.007*\"bill\" + 0.007*\"k\" + 0.006*\"bhi\" + 0.006*\"hi\" + 0.005*\"order\" + 0.005*\".....\" + 0.005*\"nice\" + 0.005*\"....\" + 0.005*\"phn\" + 0.004*\"contact\"')\n",
            "(5, '0.257*\"product\" + 0.071*\"money\" + 0.033*\"waste\" + 0.028*\"delivery\" + 0.027*\"value\" + 0.025*\"amazon\" + 0.021*\"superb\" + 0.013*\"return\" + 0.012*\"handset\" + 0.012*\"price\" + 0.010*\"service\" + 0.010*\"ok\" + 0.010*\"thanks\" + 0.008*\"class\" + 0.008*\"time\" + 0.006*\"offer\" + 0.005*\"till\" + 0.005*\"date\" + 0.005*\"box\" + 0.005*\".....\"')\n"
          ]
        }
      ]
    },
    {
      "cell_type": "code",
      "source": [
        "# Compute the coherence score using the 'c_v' metric\n",
        "coherence_model_optimal = CoherenceModel(model=lda_model_optimal, texts=cleaned_reviews, dictionary=dictionary, coherence='c_v')\n",
        "\n",
        "# Get the coherence score\n",
        "coherence_optimal = coherence_model_optimal.get_coherence()\n",
        "\n",
        "print(f'Coherence Score (c_v) for Optimal Model: {coherence_optimal}')"
      ],
      "metadata": {
        "colab": {
          "base_uri": "https://localhost:8080/"
        },
        "id": "bdSLrZcJranN",
        "outputId": "5b5b85f4-12e8-4bf4-d2a4-f5522dca2c4b"
      },
      "id": "bdSLrZcJranN",
      "execution_count": 20,
      "outputs": [
        {
          "output_type": "stream",
          "name": "stdout",
          "text": [
            "Coherence Score (c_v) for Optimal Model: 0.5760283117505804\n"
          ]
        }
      ]
    },
    {
      "cell_type": "code",
      "source": [
        "# import pyLDAvis.gensim_models\n",
        "# pyLDAvis.enable_notebook()\n",
        "# vis = pyLDAvis.gensim_models.prepare(lda_model, corpus, dictionary)\n",
        "# pyLDAvis.display(vis)"
      ],
      "metadata": {
        "id": "CL7xyZj7t0cG"
      },
      "id": "CL7xyZj7t0cG",
      "execution_count": 21,
      "outputs": []
    },
    {
      "cell_type": "code",
      "source": [
        "import pandas as pd\n",
        "import plotly.express as px\n",
        "\n",
        "# Topic labels (manual interpretation of top words)\n",
        "topic_labels = [\n",
        "    \"Product Value and Features\",      # Topic 0\n",
        "    \"Battery and Heating Issues\",      # Topic 1\n",
        "    \"Product Delivery and Service\",    # Topic 2\n",
        "    \"Phone Model and Updates\",         # Topic 3\n",
        "    \"Camera and Phone Quality\",        # Topic 4\n",
        "    \"Phone Purchase and Returns\"       # Topic 5\n",
        "]\n",
        "\n",
        "# Function to extract top terms from the raw topic data\n",
        "def extract_top_terms(topics, num_terms=10):\n",
        "    topics_data = []\n",
        "    for topic_id, terms in topics:\n",
        "        # Extract top N terms (splitting the terms from the model output string)\n",
        "        top_terms = [term.split('*')[1].strip('\"') for term in terms.split(' + ')][:num_terms]\n",
        "        topics_data.append([topic_labels[topic_id], \", \".join(top_terms)])\n",
        "    return topics_data\n",
        "\n",
        "# Extract the topics data\n",
        "topics_data = extract_top_terms(topics)\n",
        "\n",
        "# Create a DataFrame\n",
        "df_topics = pd.DataFrame(topics_data, columns=[\"Topic Name\", \"Top 10 Terms\"])\n",
        "df_topics\n"
      ],
      "metadata": {
        "colab": {
          "base_uri": "https://localhost:8080/",
          "height": 238
        },
        "id": "e1QkY47q9vaE",
        "outputId": "cb3f76c3-8d70-4c02-9b75-aadbcb41f697"
      },
      "id": "e1QkY47q9vaE",
      "execution_count": 22,
      "outputs": [
        {
          "output_type": "execute_result",
          "data": {
            "text/plain": [
              "                     Topic Name  \\\n",
              "0    Product Value and Features   \n",
              "1    Battery and Heating Issues   \n",
              "2  Product Delivery and Service   \n",
              "3       Phone Model and Updates   \n",
              "4      Camera and Phone Quality   \n",
              "5    Phone Purchase and Returns   \n",
              "\n",
              "                                        Top 10 Terms  \n",
              "0  camera, quality, note, k8, speaker, sound, ..,...  \n",
              "1  phone, battery, camera, performance, price, .....  \n",
              "2  phone, .., issue, lenovo, problem, day, batter...  \n",
              "3  mobile, screen, charger, glass, cast, earphone...  \n",
              "4  problem, heating, hai, h, network, ......, ho,...  \n",
              "5  product, money, waste, delivery, value, amazon...  "
            ],
            "text/html": [
              "\n",
              "  <div id=\"df-587736de-eef4-4253-b3d6-b3678d4930db\" class=\"colab-df-container\">\n",
              "    <div>\n",
              "<style scoped>\n",
              "    .dataframe tbody tr th:only-of-type {\n",
              "        vertical-align: middle;\n",
              "    }\n",
              "\n",
              "    .dataframe tbody tr th {\n",
              "        vertical-align: top;\n",
              "    }\n",
              "\n",
              "    .dataframe thead th {\n",
              "        text-align: right;\n",
              "    }\n",
              "</style>\n",
              "<table border=\"1\" class=\"dataframe\">\n",
              "  <thead>\n",
              "    <tr style=\"text-align: right;\">\n",
              "      <th></th>\n",
              "      <th>Topic Name</th>\n",
              "      <th>Top 10 Terms</th>\n",
              "    </tr>\n",
              "  </thead>\n",
              "  <tbody>\n",
              "    <tr>\n",
              "      <th>0</th>\n",
              "      <td>Product Value and Features</td>\n",
              "      <td>camera, quality, note, k8, speaker, sound, ..,...</td>\n",
              "    </tr>\n",
              "    <tr>\n",
              "      <th>1</th>\n",
              "      <td>Battery and Heating Issues</td>\n",
              "      <td>phone, battery, camera, performance, price, .....</td>\n",
              "    </tr>\n",
              "    <tr>\n",
              "      <th>2</th>\n",
              "      <td>Product Delivery and Service</td>\n",
              "      <td>phone, .., issue, lenovo, problem, day, batter...</td>\n",
              "    </tr>\n",
              "    <tr>\n",
              "      <th>3</th>\n",
              "      <td>Phone Model and Updates</td>\n",
              "      <td>mobile, screen, charger, glass, cast, earphone...</td>\n",
              "    </tr>\n",
              "    <tr>\n",
              "      <th>4</th>\n",
              "      <td>Camera and Phone Quality</td>\n",
              "      <td>problem, heating, hai, h, network, ......, ho,...</td>\n",
              "    </tr>\n",
              "    <tr>\n",
              "      <th>5</th>\n",
              "      <td>Phone Purchase and Returns</td>\n",
              "      <td>product, money, waste, delivery, value, amazon...</td>\n",
              "    </tr>\n",
              "  </tbody>\n",
              "</table>\n",
              "</div>\n",
              "    <div class=\"colab-df-buttons\">\n",
              "\n",
              "  <div class=\"colab-df-container\">\n",
              "    <button class=\"colab-df-convert\" onclick=\"convertToInteractive('df-587736de-eef4-4253-b3d6-b3678d4930db')\"\n",
              "            title=\"Convert this dataframe to an interactive table.\"\n",
              "            style=\"display:none;\">\n",
              "\n",
              "  <svg xmlns=\"http://www.w3.org/2000/svg\" height=\"24px\" viewBox=\"0 -960 960 960\">\n",
              "    <path d=\"M120-120v-720h720v720H120Zm60-500h600v-160H180v160Zm220 220h160v-160H400v160Zm0 220h160v-160H400v160ZM180-400h160v-160H180v160Zm440 0h160v-160H620v160ZM180-180h160v-160H180v160Zm440 0h160v-160H620v160Z\"/>\n",
              "  </svg>\n",
              "    </button>\n",
              "\n",
              "  <style>\n",
              "    .colab-df-container {\n",
              "      display:flex;\n",
              "      gap: 12px;\n",
              "    }\n",
              "\n",
              "    .colab-df-convert {\n",
              "      background-color: #E8F0FE;\n",
              "      border: none;\n",
              "      border-radius: 50%;\n",
              "      cursor: pointer;\n",
              "      display: none;\n",
              "      fill: #1967D2;\n",
              "      height: 32px;\n",
              "      padding: 0 0 0 0;\n",
              "      width: 32px;\n",
              "    }\n",
              "\n",
              "    .colab-df-convert:hover {\n",
              "      background-color: #E2EBFA;\n",
              "      box-shadow: 0px 1px 2px rgba(60, 64, 67, 0.3), 0px 1px 3px 1px rgba(60, 64, 67, 0.15);\n",
              "      fill: #174EA6;\n",
              "    }\n",
              "\n",
              "    .colab-df-buttons div {\n",
              "      margin-bottom: 4px;\n",
              "    }\n",
              "\n",
              "    [theme=dark] .colab-df-convert {\n",
              "      background-color: #3B4455;\n",
              "      fill: #D2E3FC;\n",
              "    }\n",
              "\n",
              "    [theme=dark] .colab-df-convert:hover {\n",
              "      background-color: #434B5C;\n",
              "      box-shadow: 0px 1px 3px 1px rgba(0, 0, 0, 0.15);\n",
              "      filter: drop-shadow(0px 1px 2px rgba(0, 0, 0, 0.3));\n",
              "      fill: #FFFFFF;\n",
              "    }\n",
              "  </style>\n",
              "\n",
              "    <script>\n",
              "      const buttonEl =\n",
              "        document.querySelector('#df-587736de-eef4-4253-b3d6-b3678d4930db button.colab-df-convert');\n",
              "      buttonEl.style.display =\n",
              "        google.colab.kernel.accessAllowed ? 'block' : 'none';\n",
              "\n",
              "      async function convertToInteractive(key) {\n",
              "        const element = document.querySelector('#df-587736de-eef4-4253-b3d6-b3678d4930db');\n",
              "        const dataTable =\n",
              "          await google.colab.kernel.invokeFunction('convertToInteractive',\n",
              "                                                    [key], {});\n",
              "        if (!dataTable) return;\n",
              "\n",
              "        const docLinkHtml = 'Like what you see? Visit the ' +\n",
              "          '<a target=\"_blank\" href=https://colab.research.google.com/notebooks/data_table.ipynb>data table notebook</a>'\n",
              "          + ' to learn more about interactive tables.';\n",
              "        element.innerHTML = '';\n",
              "        dataTable['output_type'] = 'display_data';\n",
              "        await google.colab.output.renderOutput(dataTable, element);\n",
              "        const docLink = document.createElement('div');\n",
              "        docLink.innerHTML = docLinkHtml;\n",
              "        element.appendChild(docLink);\n",
              "      }\n",
              "    </script>\n",
              "  </div>\n",
              "\n",
              "\n",
              "<div id=\"df-76ce2d6e-dfec-42f0-b869-334824d6e047\">\n",
              "  <button class=\"colab-df-quickchart\" onclick=\"quickchart('df-76ce2d6e-dfec-42f0-b869-334824d6e047')\"\n",
              "            title=\"Suggest charts\"\n",
              "            style=\"display:none;\">\n",
              "\n",
              "<svg xmlns=\"http://www.w3.org/2000/svg\" height=\"24px\"viewBox=\"0 0 24 24\"\n",
              "     width=\"24px\">\n",
              "    <g>\n",
              "        <path d=\"M19 3H5c-1.1 0-2 .9-2 2v14c0 1.1.9 2 2 2h14c1.1 0 2-.9 2-2V5c0-1.1-.9-2-2-2zM9 17H7v-7h2v7zm4 0h-2V7h2v10zm4 0h-2v-4h2v4z\"/>\n",
              "    </g>\n",
              "</svg>\n",
              "  </button>\n",
              "\n",
              "<style>\n",
              "  .colab-df-quickchart {\n",
              "      --bg-color: #E8F0FE;\n",
              "      --fill-color: #1967D2;\n",
              "      --hover-bg-color: #E2EBFA;\n",
              "      --hover-fill-color: #174EA6;\n",
              "      --disabled-fill-color: #AAA;\n",
              "      --disabled-bg-color: #DDD;\n",
              "  }\n",
              "\n",
              "  [theme=dark] .colab-df-quickchart {\n",
              "      --bg-color: #3B4455;\n",
              "      --fill-color: #D2E3FC;\n",
              "      --hover-bg-color: #434B5C;\n",
              "      --hover-fill-color: #FFFFFF;\n",
              "      --disabled-bg-color: #3B4455;\n",
              "      --disabled-fill-color: #666;\n",
              "  }\n",
              "\n",
              "  .colab-df-quickchart {\n",
              "    background-color: var(--bg-color);\n",
              "    border: none;\n",
              "    border-radius: 50%;\n",
              "    cursor: pointer;\n",
              "    display: none;\n",
              "    fill: var(--fill-color);\n",
              "    height: 32px;\n",
              "    padding: 0;\n",
              "    width: 32px;\n",
              "  }\n",
              "\n",
              "  .colab-df-quickchart:hover {\n",
              "    background-color: var(--hover-bg-color);\n",
              "    box-shadow: 0 1px 2px rgba(60, 64, 67, 0.3), 0 1px 3px 1px rgba(60, 64, 67, 0.15);\n",
              "    fill: var(--button-hover-fill-color);\n",
              "  }\n",
              "\n",
              "  .colab-df-quickchart-complete:disabled,\n",
              "  .colab-df-quickchart-complete:disabled:hover {\n",
              "    background-color: var(--disabled-bg-color);\n",
              "    fill: var(--disabled-fill-color);\n",
              "    box-shadow: none;\n",
              "  }\n",
              "\n",
              "  .colab-df-spinner {\n",
              "    border: 2px solid var(--fill-color);\n",
              "    border-color: transparent;\n",
              "    border-bottom-color: var(--fill-color);\n",
              "    animation:\n",
              "      spin 1s steps(1) infinite;\n",
              "  }\n",
              "\n",
              "  @keyframes spin {\n",
              "    0% {\n",
              "      border-color: transparent;\n",
              "      border-bottom-color: var(--fill-color);\n",
              "      border-left-color: var(--fill-color);\n",
              "    }\n",
              "    20% {\n",
              "      border-color: transparent;\n",
              "      border-left-color: var(--fill-color);\n",
              "      border-top-color: var(--fill-color);\n",
              "    }\n",
              "    30% {\n",
              "      border-color: transparent;\n",
              "      border-left-color: var(--fill-color);\n",
              "      border-top-color: var(--fill-color);\n",
              "      border-right-color: var(--fill-color);\n",
              "    }\n",
              "    40% {\n",
              "      border-color: transparent;\n",
              "      border-right-color: var(--fill-color);\n",
              "      border-top-color: var(--fill-color);\n",
              "    }\n",
              "    60% {\n",
              "      border-color: transparent;\n",
              "      border-right-color: var(--fill-color);\n",
              "    }\n",
              "    80% {\n",
              "      border-color: transparent;\n",
              "      border-right-color: var(--fill-color);\n",
              "      border-bottom-color: var(--fill-color);\n",
              "    }\n",
              "    90% {\n",
              "      border-color: transparent;\n",
              "      border-bottom-color: var(--fill-color);\n",
              "    }\n",
              "  }\n",
              "</style>\n",
              "\n",
              "  <script>\n",
              "    async function quickchart(key) {\n",
              "      const quickchartButtonEl =\n",
              "        document.querySelector('#' + key + ' button');\n",
              "      quickchartButtonEl.disabled = true;  // To prevent multiple clicks.\n",
              "      quickchartButtonEl.classList.add('colab-df-spinner');\n",
              "      try {\n",
              "        const charts = await google.colab.kernel.invokeFunction(\n",
              "            'suggestCharts', [key], {});\n",
              "      } catch (error) {\n",
              "        console.error('Error during call to suggestCharts:', error);\n",
              "      }\n",
              "      quickchartButtonEl.classList.remove('colab-df-spinner');\n",
              "      quickchartButtonEl.classList.add('colab-df-quickchart-complete');\n",
              "    }\n",
              "    (() => {\n",
              "      let quickchartButtonEl =\n",
              "        document.querySelector('#df-76ce2d6e-dfec-42f0-b869-334824d6e047 button');\n",
              "      quickchartButtonEl.style.display =\n",
              "        google.colab.kernel.accessAllowed ? 'block' : 'none';\n",
              "    })();\n",
              "  </script>\n",
              "</div>\n",
              "\n",
              "  <div id=\"id_7f0e30bb-9ebf-496b-9af1-f9e883a9862d\">\n",
              "    <style>\n",
              "      .colab-df-generate {\n",
              "        background-color: #E8F0FE;\n",
              "        border: none;\n",
              "        border-radius: 50%;\n",
              "        cursor: pointer;\n",
              "        display: none;\n",
              "        fill: #1967D2;\n",
              "        height: 32px;\n",
              "        padding: 0 0 0 0;\n",
              "        width: 32px;\n",
              "      }\n",
              "\n",
              "      .colab-df-generate:hover {\n",
              "        background-color: #E2EBFA;\n",
              "        box-shadow: 0px 1px 2px rgba(60, 64, 67, 0.3), 0px 1px 3px 1px rgba(60, 64, 67, 0.15);\n",
              "        fill: #174EA6;\n",
              "      }\n",
              "\n",
              "      [theme=dark] .colab-df-generate {\n",
              "        background-color: #3B4455;\n",
              "        fill: #D2E3FC;\n",
              "      }\n",
              "\n",
              "      [theme=dark] .colab-df-generate:hover {\n",
              "        background-color: #434B5C;\n",
              "        box-shadow: 0px 1px 3px 1px rgba(0, 0, 0, 0.15);\n",
              "        filter: drop-shadow(0px 1px 2px rgba(0, 0, 0, 0.3));\n",
              "        fill: #FFFFFF;\n",
              "      }\n",
              "    </style>\n",
              "    <button class=\"colab-df-generate\" onclick=\"generateWithVariable('df_topics')\"\n",
              "            title=\"Generate code using this dataframe.\"\n",
              "            style=\"display:none;\">\n",
              "\n",
              "  <svg xmlns=\"http://www.w3.org/2000/svg\" height=\"24px\"viewBox=\"0 0 24 24\"\n",
              "       width=\"24px\">\n",
              "    <path d=\"M7,19H8.4L18.45,9,17,7.55,7,17.6ZM5,21V16.75L18.45,3.32a2,2,0,0,1,2.83,0l1.4,1.43a1.91,1.91,0,0,1,.58,1.4,1.91,1.91,0,0,1-.58,1.4L9.25,21ZM18.45,9,17,7.55Zm-12,3A5.31,5.31,0,0,0,4.9,8.1,5.31,5.31,0,0,0,1,6.5,5.31,5.31,0,0,0,4.9,4.9,5.31,5.31,0,0,0,6.5,1,5.31,5.31,0,0,0,8.1,4.9,5.31,5.31,0,0,0,12,6.5,5.46,5.46,0,0,0,6.5,12Z\"/>\n",
              "  </svg>\n",
              "    </button>\n",
              "    <script>\n",
              "      (() => {\n",
              "      const buttonEl =\n",
              "        document.querySelector('#id_7f0e30bb-9ebf-496b-9af1-f9e883a9862d button.colab-df-generate');\n",
              "      buttonEl.style.display =\n",
              "        google.colab.kernel.accessAllowed ? 'block' : 'none';\n",
              "\n",
              "      buttonEl.onclick = () => {\n",
              "        google.colab.notebook.generateWithVariable('df_topics');\n",
              "      }\n",
              "      })();\n",
              "    </script>\n",
              "  </div>\n",
              "\n",
              "    </div>\n",
              "  </div>\n"
            ],
            "application/vnd.google.colaboratory.intrinsic+json": {
              "type": "dataframe",
              "variable_name": "df_topics",
              "summary": "{\n  \"name\": \"df_topics\",\n  \"rows\": 6,\n  \"fields\": [\n    {\n      \"column\": \"Topic Name\",\n      \"properties\": {\n        \"dtype\": \"string\",\n        \"num_unique_values\": 6,\n        \"samples\": [\n          \"Product Value and Features\",\n          \"Battery and Heating Issues\",\n          \"Phone Purchase and Returns\"\n        ],\n        \"semantic_type\": \"\",\n        \"description\": \"\"\n      }\n    },\n    {\n      \"column\": \"Top 10 Terms\",\n      \"properties\": {\n        \"dtype\": \"string\",\n        \"num_unique_values\": 6,\n        \"samples\": [\n          \"camera, quality, note, k8, speaker, sound, .., feature, lenovo, mode\",\n          \"phone, battery, camera, performance, price, ...., backup, feature, time, range\",\n          \"product, money, waste, delivery, value, amazon, superb, return, handset, price\"\n        ],\n        \"semantic_type\": \"\",\n        \"description\": \"\"\n      }\n    }\n  ]\n}"
            }
          },
          "metadata": {},
          "execution_count": 22
        }
      ]
    },
    {
      "cell_type": "code",
      "source": [],
      "metadata": {
        "id": "tVgzqi-KQwPx"
      },
      "id": "tVgzqi-KQwPx",
      "execution_count": 22,
      "outputs": []
    }
  ],
  "metadata": {
    "kernelspec": {
      "display_name": "Python 3",
      "name": "python3"
    },
    "language_info": {
      "codemirror_mode": {
        "name": "ipython",
        "version": 3
      },
      "file_extension": ".py",
      "mimetype": "text/x-python",
      "name": "python",
      "nbconvert_exporter": "python",
      "pygments_lexer": "ipython3",
      "version": "3.12.4"
    },
    "colab": {
      "provenance": [],
      "gpuType": "T4"
    },
    "accelerator": "GPU"
  },
  "nbformat": 4,
  "nbformat_minor": 5
}